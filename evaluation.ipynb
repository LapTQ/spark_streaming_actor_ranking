{
    "cells": [
        {
            "cell_type": "code",
            "execution_count": 1,
            "metadata": {},
            "outputs": [],
            "source": [
                "import pandas as pd\n",
                "\n",
                "def get_rank(file_name, asc=False):\n",
                "    data = pd.read_csv(file_name, names=['id','w'])\n",
                "    data['rank'] = data['w'].rank(\n",
                "        method='min', ascending=asc).apply(int)\n",
                "    # return data.sort_values(by=['rank'])\n",
                "    result = {}\n",
                "    def f(row):\n",
                "        result[row['id']] = row['rank']\n",
                "    data.apply(f, axis=1)\n",
                "\n",
                "    # for i, row in data.iterrows():\n",
                "    #     result[row['id']] = row['rank']\n",
                "    return result\n",
                "\n",
                "# get_rank('true_rank.txt', True)\n",
                "# get_rank('result_pagerank_original_indirected.txt')\n",
                "# get_rank('result_pagerank_weighted_indirected.txt')\n",
                "# get_rank('k_shell.txt')\n",
                "\n",
                "# true = pd.read_csv('true_rank.txt', names=['id','rank']).sort_values(by=['rank'])\n",
                "# true.loc[true['rank'] <= 100]\n"
            ]
        },
        {
            "cell_type": "code",
            "execution_count": 2,
            "metadata": {},
            "outputs": [
                {
                    "name": "stderr",
                    "output_type": "stream",
                    "text": [
                        "The default pygrank backend has been set to \"numpy\" by the file /home/hung/.pygrank/config.json\n",
                        "Set your preferred backend as one of [\"numpy\", \"pytorch\", \"tensorflow\", \"torch_sparse\", \"matvec\", \"sparse_dot_mkl\"] and \"reminder\": false in that file to remove this message from future runs.\n"
                    ]
                },
                {
                    "data": {
                        "text/plain": [
                            "554789"
                        ]
                    },
                    "execution_count": 2,
                    "metadata": {},
                    "output_type": "execute_result"
                }
            ],
            "source": [
                "from pygrank import Graph\n",
                "# from pagerank3 import extract_from_file\n",
                "\n",
                "# info = extract_from_file('amazon-meta.txt')\n",
                "def import_graph(file_path):\n",
                "    graph = Graph()\n",
                "\n",
                "    last_ASIN = None\n",
                "    with open(file_path, 'r') as f:\n",
                "        while True:\n",
                "            line = f.readline()\n",
                "\n",
                "            if line == '':\n",
                "                break\n",
                "\n",
                "            if line.startswith('ASIN: '):\n",
                "                last_ASIN = line.strip().split()[1]\n",
                "            elif line.strip().startswith('similar'):\n",
                "                similar = line.strip().split()[2:]\n",
                "                for s in similar:\n",
                "                    graph.add_edge(last_ASIN, s)\n",
                "    return graph\n",
                "\n",
                "graph = import_graph('amazon-meta.txt')\n",
                "\n",
                "len(graph)"
            ]
        },
        {
            "cell_type": "code",
            "execution_count": 3,
            "metadata": {},
            "outputs": [
                {
                    "name": "stdout",
                    "output_type": "stream",
                    "text": [
                        "TPR: 0.3361604678763454\n",
                        "AUC: 1.2711112405638428e-05 \n",
                        "NDCG@1000: 0.6259148437777695\n"
                    ]
                }
            ],
            "source": [
                "import pygrank as pg\n",
                "\n",
                "\n",
                "ranks = get_rank('result_pagerank_weighted_indirected.txt')\n",
                "ground = get_rank('true_rank.txt', True)\n",
                "\n",
                "to_remove = [i for i in ranks if i not in ground]\n",
                "for i in to_remove:\n",
                "    del ranks[i]\n",
                "\n",
                "sub_graph = graph.subgraph(ground)\n",
                "\n",
                "signal = pg.to_signal(sub_graph, ranks)\n",
                "true = pg.to_signal(sub_graph, ground)\n",
                "\n",
                "tpr = pg.TPR(known_scores=true).evaluate(signal) \n",
                "auc = pg.Density().evaluate(signal)\n",
                "ndcg = pg.NDCG(k=1000, known_scores=ground).evaluate(signal)\n",
                "print(f'TPR: {tpr}\\nAUC: {auc} \\nNDCG@1000: {ndcg}')"
            ]
        },
        {
            "cell_type": "code",
            "execution_count": 4,
            "metadata": {},
            "outputs": [
                {
                    "name": "stdout",
                    "output_type": "stream",
                    "text": [
                        "TPR: 0.2159747731496687\n",
                        "AUC: 1.1096675329550079e-05 \n",
                        "NDCG@1000: 0.5503147715898823\n"
                    ]
                }
            ],
            "source": [
                "import pygrank as pg\n",
                "\n",
                "\n",
                "ranks = get_rank('k_shell.txt')\n",
                "ground = get_rank('true_rank.txt', True)\n",
                "\n",
                "to_remove = [i for i in ranks if i not in ground]\n",
                "for i in to_remove:\n",
                "    del ranks[i]\n",
                "\n",
                "sub_graph = graph.subgraph(ground)\n",
                "\n",
                "signal = pg.to_signal(sub_graph, ranks)\n",
                "true = pg.to_signal(sub_graph, ground)\n",
                "\n",
                "tpr = pg.TPR(known_scores=true).evaluate(signal) \n",
                "auc = pg.Density().evaluate(signal)\n",
                "ndcg = pg.NDCG(k=1000, known_scores=ground).evaluate(signal)\n",
                "print(f'TPR: {tpr}\\nAUC: {auc} \\nNDCG@1000: {ndcg}')\n"
            ]
        }
    ],
    "metadata": {
        "kernelspec": {
            "display_name": "Python 3",
            "language": "python",
            "name": "python3"
        },
        "language_info": {
            "codemirror_mode": {
                "name": "ipython",
                "version": 3
            },
            "file_extension": ".py",
            "mimetype": "text/x-python",
            "name": "python",
            "nbconvert_exporter": "python",
            "pygments_lexer": "ipython3",
            "version": "3.10.6"
        },
        "orig_nbformat": 4,
        "vscode": {
            "interpreter": {
                "hash": "916dbcbb3f70747c44a77c7bcd40155683ae19c65e1c03b4aa3499c5328201f1"
            }
        }
    },
    "nbformat": 4,
    "nbformat_minor": 2
}

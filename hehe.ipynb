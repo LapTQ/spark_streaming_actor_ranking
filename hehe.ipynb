{
 "cells": [
  {
   "cell_type": "code",
   "execution_count": 9,
   "metadata": {},
   "outputs": [
    {
     "data": {
      "text/html": [
       "<div>\n",
       "<style scoped>\n",
       "    .dataframe tbody tr th:only-of-type {\n",
       "        vertical-align: middle;\n",
       "    }\n",
       "\n",
       "    .dataframe tbody tr th {\n",
       "        vertical-align: top;\n",
       "    }\n",
       "\n",
       "    .dataframe thead th {\n",
       "        text-align: right;\n",
       "    }\n",
       "</style>\n",
       "<table border=\"1\" class=\"dataframe\">\n",
       "  <thead>\n",
       "    <tr style=\"text-align: right;\">\n",
       "      <th></th>\n",
       "      <th>id</th>\n",
       "      <th>w</th>\n",
       "      <th>rank</th>\n",
       "    </tr>\n",
       "  </thead>\n",
       "  <tbody>\n",
       "    <tr>\n",
       "      <th>0</th>\n",
       "      <td>0771044445</td>\n",
       "      <td>1.000000e-09</td>\n",
       "      <td>1</td>\n",
       "    </tr>\n",
       "    <tr>\n",
       "      <th>600704</th>\n",
       "      <td>0335192904</td>\n",
       "      <td>1.000000e-09</td>\n",
       "      <td>1</td>\n",
       "    </tr>\n",
       "    <tr>\n",
       "      <th>600703</th>\n",
       "      <td>0520078497</td>\n",
       "      <td>1.000000e-09</td>\n",
       "      <td>1</td>\n",
       "    </tr>\n",
       "    <tr>\n",
       "      <th>600701</th>\n",
       "      <td>B00005NUZE</td>\n",
       "      <td>1.000000e-09</td>\n",
       "      <td>1</td>\n",
       "    </tr>\n",
       "    <tr>\n",
       "      <th>254903</th>\n",
       "      <td>B00005N8AV</td>\n",
       "      <td>1.000000e-09</td>\n",
       "      <td>1</td>\n",
       "    </tr>\n",
       "    <tr>\n",
       "      <th>...</th>\n",
       "      <td>...</td>\n",
       "      <td>...</td>\n",
       "      <td>...</td>\n",
       "    </tr>\n",
       "    <tr>\n",
       "      <th>675985</th>\n",
       "      <td>B0002CR02M</td>\n",
       "      <td>-2.048963e+01</td>\n",
       "      <td>721336</td>\n",
       "    </tr>\n",
       "    <tr>\n",
       "      <th>675983</th>\n",
       "      <td>B0002CR02W</td>\n",
       "      <td>-2.048963e+01</td>\n",
       "      <td>721336</td>\n",
       "    </tr>\n",
       "    <tr>\n",
       "      <th>682744</th>\n",
       "      <td>1400020336</td>\n",
       "      <td>-2.054541e+01</td>\n",
       "      <td>721340</td>\n",
       "    </tr>\n",
       "    <tr>\n",
       "      <th>704635</th>\n",
       "      <td>0789495007</td>\n",
       "      <td>-2.058775e+01</td>\n",
       "      <td>721341</td>\n",
       "    </tr>\n",
       "    <tr>\n",
       "      <th>717918</th>\n",
       "      <td>B00009ZY9T</td>\n",
       "      <td>-2.063366e+01</td>\n",
       "      <td>721342</td>\n",
       "    </tr>\n",
       "  </tbody>\n",
       "</table>\n",
       "<p>721342 rows × 3 columns</p>\n",
       "</div>"
      ],
      "text/plain": [
       "                id             w    rank\n",
       "0       0771044445  1.000000e-09       1\n",
       "600704  0335192904  1.000000e-09       1\n",
       "600703  0520078497  1.000000e-09       1\n",
       "600701  B00005NUZE  1.000000e-09       1\n",
       "254903  B00005N8AV  1.000000e-09       1\n",
       "...            ...           ...     ...\n",
       "675985  B0002CR02M -2.048963e+01  721336\n",
       "675983  B0002CR02W -2.048963e+01  721336\n",
       "682744  1400020336 -2.054541e+01  721340\n",
       "704635  0789495007 -2.058775e+01  721341\n",
       "717918  B00009ZY9T -2.063366e+01  721342\n",
       "\n",
       "[721342 rows x 3 columns]"
      ]
     },
     "execution_count": 9,
     "metadata": {},
     "output_type": "execute_result"
    }
   ],
   "source": [
    "import pandas as pd\n",
    "\n",
    "def get_result(file_name):\n",
    "    result = pd.read_csv(file_name, names=['id','w'])\n",
    "    result['rank'] = result['w'].rank(\n",
    "        method='min', ascending=False).apply(int)\n",
    "    return result.sort_values(by=['rank'])\n",
    "\n",
    "get_result('result_pagerank_weighted.txt')\n",
    "\n"
   ]
  },
  {
   "cell_type": "code",
   "execution_count": 3,
   "metadata": {},
   "outputs": [
    {
     "name": "stdout",
     "output_type": "stream",
     "text": [
      "TPR: 0.9166666666666666\n",
      "AUC: 0.7192982456140351 \n",
      "NDCG: 0.9801000129176609\n"
     ]
    }
   ],
   "source": [
    "import pygrank as pg\n",
    "from pygrank import Graph\n",
    "\n",
    "graph = Graph()\n",
    "graph.add_edge(\"A\", \"B\")\n",
    "graph.add_edge(\"B\", \"C\")\n",
    "graph.add_edge(\"C\", \"D\")\n",
    "graph.add_edge(\"D\", \"E\")\n",
    "graph.add_edge(\"A\", \"C\")\n",
    "graph.add_edge(\"C\", \"E\")\n",
    "graph.add_edge(\"B\", \"E\")\n",
    "\n",
    "ranks = {\"A\":3, \"B\":2, \"C\":4, \"D\":4, \"E\":4}\n",
    "ground = {\"A\":2, \"B\":2, \"C\":8, \"D\":2, \"E\":4}\n",
    "\n",
    "signal = pg.to_signal(graph, ranks)\n",
    "true = pg.to_signal(graph, ground)\n",
    "\n",
    "tpr = pg.TPR(known_scores=true).evaluate(signal) \n",
    "auc = pg.Density().evaluate(signal)\n",
    "ndcg = pg.NDCG(k=1000, known_scores=ground).evaluate(signal)\n",
    "print(f'TPR: {tpr}\\nAUC: {auc} \\nNDCG: {ndcg}')"
   ]
  }
 ],
 "metadata": {
  "kernelspec": {
   "display_name": "Python 3",
   "language": "python",
   "name": "python3"
  },
  "language_info": {
   "codemirror_mode": {
    "name": "ipython",
    "version": 3
   },
   "file_extension": ".py",
   "mimetype": "text/x-python",
   "name": "python",
   "nbconvert_exporter": "python",
   "pygments_lexer": "ipython3",
   "version": "3.10.6"
  },
  "orig_nbformat": 4,
  "vscode": {
   "interpreter": {
    "hash": "916dbcbb3f70747c44a77c7bcd40155683ae19c65e1c03b4aa3499c5328201f1"
   }
  }
 },
 "nbformat": 4,
 "nbformat_minor": 2
}

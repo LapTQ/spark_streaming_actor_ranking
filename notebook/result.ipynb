{
 "cells": [
  {
   "cell_type": "code",
   "execution_count": 20,
   "metadata": {},
   "outputs": [],
   "source": [
    "import pandas as pd\n",
    "\n",
    "def get_rank(file_name, asc=False):\n",
    "    data = pd.read_csv(file_name, names=['id','w'])\n",
    "    data['rank'] = data['w'].rank(\n",
    "        method='min', ascending=asc).apply(int)\n",
    "    # return data.sort_values(by=['rank'])\n",
    "    result = {}\n",
    "    def f(row):\n",
    "        result[row['id']] = row['rank']\n",
    "    data.apply(f, axis=1)\n",
    "\n",
    "    # for i, row in data.iterrows():\n",
    "    #     result[row['id']] = row['rank']\n",
    "    return result\n",
    "\n",
    "# get_rank('true_rank.txt', True)\n",
    "# get_rank('result_pagerank_original_indirected.txt')\n",
    "# get_rank('result_pagerank_weighted_indirected.txt')\n",
    "# get_rank('k_shell.txt')\n",
    "\n",
    "# true = pd.read_csv('true_rank.txt', names=['id','rank']).sort_values(by=['rank'])\n",
    "# true.loc[true['rank'] <= 100]\n"
   ]
  },
  {
   "cell_type": "code",
   "execution_count": 21,
   "metadata": {},
   "outputs": [
    {
     "data": {
      "text/plain": [
       "554789"
      ]
     },
     "execution_count": 21,
     "metadata": {},
     "output_type": "execute_result"
    }
   ],
   "source": [
    "from pygrank import Graph\n",
    "# from pagerank3 import extract_from_file\n",
    "\n",
    "# info = extract_from_file('amazon-meta.txt')\n",
    "def import_graph(file_path):\n",
    "    graph = Graph()\n",
    "\n",
    "    last_ASIN = None\n",
    "    with open(file_path, 'r') as f:\n",
    "        while True:\n",
    "            line = f.readline()\n",
    "\n",
    "            if line == '':\n",
    "                break\n",
    "\n",
    "            if line.startswith('ASIN: '):\n",
    "                last_ASIN = line.strip().split()[1]\n",
    "            elif line.strip().startswith('similar'):\n",
    "                similar = line.strip().split()[2:]\n",
    "                for s in similar:\n",
    "                    graph.add_edge(last_ASIN, s)\n",
    "    return graph\n",
    "\n",
    "graph = import_graph('/Users/truong/Documents/workspace/actors_ranking/data/amazon-meta.txt')\n",
    "\n",
    "len(graph)"
   ]
  },
  {
   "cell_type": "code",
   "execution_count": 22,
   "metadata": {},
   "outputs": [
    {
     "name": "stdout",
     "output_type": "stream",
     "text": [
      "TPR: 0.3361604678763454\n",
      "Cos: 0.6004231670485641 \n",
      "NDCG@1000: 0.6259148437777695\n"
     ]
    }
   ],
   "source": [
    "import pygrank as pg\n",
    "\n",
    "\n",
    "ranks = get_rank('/Users/truong/Documents/workspace/actors_ranking/data/result_pagerank_weighted_indirected.txt')\n",
    "ground = get_rank('/Users/truong/Documents/workspace/actors_ranking/data/true_rank.txt', True)\n",
    "\n",
    "to_remove = [i for i in ranks if i not in ground]\n",
    "for i in to_remove:\n",
    "    del ranks[i]\n",
    "\n",
    "sub_graph = graph.subgraph(ground)\n",
    "\n",
    "signal = pg.to_signal(sub_graph, ranks)\n",
    "true = pg.to_signal(sub_graph, ground)\n",
    "\n",
    "tpr = pg.TPR(known_scores=true).evaluate(signal) \n",
    "cos = pg.Cos(known_scores=true).evaluate(signal)\n",
    "ndcg = pg.NDCG(k=1000, known_scores=ground).evaluate(signal)\n",
    "print(f'TPR: {tpr}\\nCos: {cos} \\nNDCG@1000: {ndcg}')"
   ]
  },
  {
   "cell_type": "code",
   "execution_count": 24,
   "metadata": {},
   "outputs": [
    {
     "name": "stdout",
     "output_type": "stream",
     "text": [
      "TPR: 0.8781555079044394\n",
      "Cos: 0.8916477729471907 \n",
      "NDCG@1000: 0.619687798417884\n"
     ]
    }
   ],
   "source": [
    "import pygrank as pg\n",
    "\n",
    "\n",
    "ranks = get_rank('/Users/truong/Documents/workspace/actors_ranking/data/result_pagerank_weighted_directed.txt')\n",
    "ground = get_rank('/Users/truong/Documents/workspace/actors_ranking/data/true_rank.txt', True)\n",
    "\n",
    "to_remove = [i for i in ranks if i not in ground]\n",
    "for i in to_remove:\n",
    "    del ranks[i]\n",
    "\n",
    "sub_graph = graph.subgraph(ground)\n",
    "\n",
    "signal = pg.to_signal(sub_graph, ranks)\n",
    "true = pg.to_signal(sub_graph, ground)\n",
    "\n",
    "tpr = pg.TPR(known_scores=true).evaluate(signal) \n",
    "cos = pg.Cos(known_scores=true).evaluate(signal)\n",
    "ndcg = pg.NDCG(k=1000, known_scores=ground).evaluate(signal)\n",
    "print(f'TPR: {tpr}\\nCos: {cos} \\nNDCG@1000: {ndcg}')"
   ]
  },
  {
   "cell_type": "code",
   "execution_count": 25,
   "metadata": {},
   "outputs": [
    {
     "name": "stdout",
     "output_type": "stream",
     "text": [
      "TPR: 0.6864094087831497\n",
      "Cos: 0.8886004038698706 \n",
      "NDCG@1000: 0.7366594482066353\n"
     ]
    }
   ],
   "source": [
    "import pygrank as pg\n",
    "\n",
    "\n",
    "ranks = get_rank('/Users/truong/Documents/workspace/actors_ranking/data/result_pagerank_original_indirected.txt')\n",
    "ground = get_rank('/Users/truong/Documents/workspace/actors_ranking/data/true_rank.txt', True)\n",
    "\n",
    "to_remove = [i for i in ranks if i not in ground]\n",
    "for i in to_remove:\n",
    "    del ranks[i]\n",
    "\n",
    "sub_graph = graph.subgraph(ground)\n",
    "\n",
    "signal = pg.to_signal(sub_graph, ranks)\n",
    "true = pg.to_signal(sub_graph, ground)\n",
    "\n",
    "tpr = pg.TPR(known_scores=true).evaluate(signal) \n",
    "cos = pg.Cos(known_scores=true).evaluate(signal)\n",
    "ndcg = pg.NDCG(k=1000, known_scores=ground).evaluate(signal)\n",
    "print(f'TPR: {tpr}\\nCos: {cos} \\nNDCG@1000: {ndcg}')"
   ]
  },
  {
   "cell_type": "code",
   "execution_count": 26,
   "metadata": {},
   "outputs": [
    {
     "name": "stdout",
     "output_type": "stream",
     "text": [
      "TPR: 0.8651288004390203\n",
      "Cos: 0.8889527425640484 \n",
      "NDCG@1000: 0.618566217050863\n"
     ]
    }
   ],
   "source": [
    "import pygrank as pg\n",
    "\n",
    "ranks = get_rank('/Users/truong/Documents/workspace/actors_ranking/data/result_pagerank_original_directed.txt')\n",
    "ground = get_rank('/Users/truong/Documents/workspace/actors_ranking/data/true_rank.txt', True)\n",
    "\n",
    "to_remove = [i for i in ranks if i not in ground]\n",
    "for i in to_remove:\n",
    "    del ranks[i]\n",
    "\n",
    "sub_graph = graph.subgraph(ground)\n",
    "\n",
    "signal = pg.to_signal(sub_graph, ranks)\n",
    "true = pg.to_signal(sub_graph, ground)\n",
    "\n",
    "tpr = pg.TPR(known_scores=true).evaluate(signal) \n",
    "cos = pg.Cos(known_scores=true).evaluate(signal)\n",
    "ndcg = pg.NDCG(k=1000, known_scores=ground).evaluate(signal)\n",
    "print(f'TPR: {tpr}\\nCos: {cos} \\nNDCG@1000: {ndcg}')"
   ]
  },
  {
   "cell_type": "code",
   "execution_count": null,
   "metadata": {},
   "outputs": [],
   "source": [
    "import pygrank as pg\n",
    "\n",
    "ranks = get_rank('/Users/truong/Documents/workspace/actors_ranking/data/k_shell_indirected.txt')\n",
    "ground = get_rank('/Users/truong/Documents/workspace/actors_ranking/data/true_rank.txt', True)\n",
    "\n",
    "to_remove = [i for i in ranks if i not in ground]\n",
    "for i in to_remove:\n",
    "    del ranks[i]\n",
    "\n",
    "sub_graph = graph.subgraph(ground)\n",
    "\n",
    "signal = pg.to_signal(sub_graph, ranks)\n",
    "true = pg.to_signal(sub_graph, ground)\n",
    "\n",
    "tpr = pg.TPR(known_scores=true).evaluate(signal) \n",
    "cos = pg.Cos(known_scores=true).evaluate(signal)\n",
    "ndcg = pg.NDCG(k=1000, known_scores=ground).evaluate(signal)\n",
    "print(f'TPR: {tpr}\\nCos: {cos} \\nNDCG@1000: {ndcg}')"
   ]
  },
  {
   "cell_type": "code",
   "execution_count": 27,
   "metadata": {},
   "outputs": [
    {
     "name": "stdout",
     "output_type": "stream",
     "text": [
      "TPR: 0.39064519219827754\n",
      "Cos: 0.5812522544940262 \n",
      "NDCG@1000: 0.5169313223883617\n"
     ]
    }
   ],
   "source": [
    "import pygrank as pg\n",
    "\n",
    "ranks = get_rank('/Users/truong/Documents/workspace/actors_ranking/data/k_shell_directed.txt')\n",
    "ground = get_rank('/Users/truong/Documents/workspace/actors_ranking/data/true_rank.txt', True)\n",
    "\n",
    "to_remove = [i for i in ranks if i not in ground]\n",
    "for i in to_remove:\n",
    "    del ranks[i]\n",
    "\n",
    "sub_graph = graph.subgraph(ground)\n",
    "\n",
    "signal = pg.to_signal(sub_graph, ranks)\n",
    "true = pg.to_signal(sub_graph, ground)\n",
    "\n",
    "tpr = pg.TPR(known_scores=true).evaluate(signal) \n",
    "cos = pg.Cos(known_scores=true).evaluate(signal)\n",
    "ndcg = pg.NDCG(k=1000, known_scores=ground).evaluate(signal)\n",
    "print(f'TPR: {tpr}\\nCos: {cos} \\nNDCG@1000: {ndcg}')"
   ]
  },
  {
   "cell_type": "code",
   "execution_count": null,
   "metadata": {},
   "outputs": [],
   "source": []
  }
 ],
 "metadata": {
  "kernelspec": {
   "display_name": "venv",
   "language": "python",
   "name": "python3"
  },
  "language_info": {
   "codemirror_mode": {
    "name": "ipython",
    "version": 3
   },
   "file_extension": ".py",
   "mimetype": "text/x-python",
   "name": "python",
   "nbconvert_exporter": "python",
   "pygments_lexer": "ipython3",
   "version": "3.11.0"
  },
  "orig_nbformat": 4,
  "vscode": {
   "interpreter": {
    "hash": "e512c0bfac00270420c6f04e07eec2fdd2ad62863ed482089881d49fac26c56a"
   }
  }
 },
 "nbformat": 4,
 "nbformat_minor": 2
}
